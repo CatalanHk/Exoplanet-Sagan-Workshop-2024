{
 "cells": [
  {
   "cell_type": "markdown",
   "id": "eb47b043",
   "metadata": {
    "id": "eb47b043"
   },
   "source": [
    "# Planet Isochrones - Mass Group Project 3\n",
    "## Author:  Jason Wang (Northwestern University/CIERA)\n",
    "\n",
    "Run the [SSW2024_PSF_Setup_Subtraction](https://colab.research.google.com/drive/1AmrmAj459MwUt4kkUbfquxnf1GkyO_F2?usp=share_link) notebook to download the data.  The setup notebook needs to just be run **once** once for Hands-on Session IV.\n",
    "\n",
    "We will convert the flux ratio we measured for a planet into mass.\n",
    "\n",
    "See the Group Project Idea 3 at the end of [SSW2024_ImagingExoplanets.ipynb](https://colab.research.google.com/drive/1XVUe9-qYAQs_9VVszxuw8Mih49dnhZjX?usp=sharing)."
   ]
  },
  {
   "cell_type": "code",
   "execution_count": 31,
   "id": "17043c84",
   "metadata": {
    "id": "17043c84"
   },
   "outputs": [
    {
     "name": "stdout",
     "output_type": "stream",
     "text": [
      "Requirement already satisfied: typeguard in /home/fabian/anaconda3/lib/python3.9/site-packages (4.3.0)\n",
      "Requirement already satisfied: typing-extensions>=4.10.0 in /home/fabian/anaconda3/lib/python3.9/site-packages (from typeguard) (4.11.0)\n",
      "Requirement already satisfied: importlib-metadata>=3.6 in /home/fabian/anaconda3/lib/python3.9/site-packages (from typeguard) (7.0.1)\n",
      "Requirement already satisfied: zipp>=0.5 in /home/fabian/anaconda3/lib/python3.9/site-packages (from importlib-metadata>=3.6->typeguard) (3.15.0)\n"
     ]
    }
   ],
   "source": [
    "!pip install typeguard --upgrade"
   ]
  },
  {
   "cell_type": "markdown",
   "id": "2Wk6TjgpeRI_",
   "metadata": {
    "id": "2Wk6TjgpeRI_"
   },
   "source": [
    "## &#128309; Setup Python running on your own computer directory\n",
    "\n",
    "**Run the Next cell**"
   ]
  },
  {
   "cell_type": "code",
   "execution_count": 21,
   "id": "ff5ecd95",
   "metadata": {},
   "outputs": [],
   "source": [
    "# Enter the full path to your PSF_Subtraction directory where you downloaded the data in the Setup notebbook\n",
    "# For example:  '/Users/jsmith/PSF_Subtraction'\n",
    "import os\n",
    "absolute_path_to_the_data_folder_on_your_machine = '/home/fabian/Sagan_Workshop/SSW2024_notebooks/' # Please complete!\n",
    "os.chdir(absolute_path_to_the_data_folder_on_your_machine)"
   ]
  },
  {
   "cell_type": "markdown",
   "id": "OGFmScmZdLwx",
   "metadata": {
    "id": "OGFmScmZdLwx"
   },
   "source": [
    "# The rest of the notebook cells are for &#128992; Colab or &#128309; running Python on your computer"
   ]
  },
  {
   "cell_type": "markdown",
   "id": "4be86844",
   "metadata": {
    "id": "4be86844"
   },
   "source": [
    "# Import `species` and setup your environment\n",
    "\n",
    "You may get \"errors\" about MultiNest. You can safely ignore all of them.\n",
    "\n",
    "If you are getting errors with a stacktrace indicating `species` did not load, try reloading the notebook and re-executing these cells."
   ]
  },
  {
   "cell_type": "code",
   "execution_count": 2,
   "id": "5cabc0d4",
   "metadata": {
    "id": "5cabc0d4"
   },
   "outputs": [],
   "source": [
    "import matplotlib.pyplot as plt\n",
    "import numpy as np\n",
    "import species\n",
    "from species.data.database import Database\n",
    "from species.read.read_isochrone import ReadIsochrone\n",
    "\n",
    "%matplotlib inline"
   ]
  },
  {
   "cell_type": "code",
   "execution_count": 3,
   "id": "43c03255",
   "metadata": {
    "id": "43c03255"
   },
   "outputs": [
    {
     "name": "stdout",
     "output_type": "stream",
     "text": [
      "==============\n",
      "species v0.8.4\n",
      "==============\n",
      "\n",
      "Working folder: /home/fabian/Sagan_Workshop/SSW2024_notebooks\n",
      "\n",
      "Configuration file: /home/fabian/Sagan_Workshop/SSW2024_notebooks/species_config.ini\n",
      "Database file: /home/fabian/Sagan_Workshop/SSW2024_notebooks/species_database.hdf5\n",
      "Data folder: /home/fabian/Sagan_Workshop/SSW2024_notebooks/data\n",
      "\n",
      "Configuration settings:\n",
      "   - Database: /home/fabian/Sagan_Workshop/SSW2024_notebooks/species_database.hdf5\n",
      "   - Data folder: /home/fabian/Sagan_Workshop/SSW2024_notebooks/data\n",
      "   - Magnitude of Vega: 0.03\n",
      "\n",
      "Multiprocessing: mpi4py not installed\n"
     ]
    },
    {
     "data": {
      "text/plain": [
       "<species.core.species_init.SpeciesInit at 0x7ae5a354ceb0>"
      ]
     },
     "execution_count": 3,
     "metadata": {},
     "output_type": "execute_result"
    }
   ],
   "source": [
    "species.SpeciesInit()"
   ]
  },
  {
   "cell_type": "markdown",
   "id": "175e18db",
   "metadata": {
    "id": "175e18db"
   },
   "source": [
    "# Download evolutionary model\n",
    "\n",
    "We will use the AMES-COND (Baraffe et al. 2003) model for this task. This is one of the classical models used for converting brightness to mass."
   ]
  },
  {
   "cell_type": "code",
   "execution_count": 4,
   "id": "ff107750",
   "metadata": {
    "id": "ff107750"
   },
   "outputs": [],
   "source": [
    "database = Database()"
   ]
  },
  {
   "cell_type": "code",
   "execution_count": 5,
   "id": "f14841c4",
   "metadata": {
    "id": "f14841c4"
   },
   "outputs": [
    {
     "name": "stdout",
     "output_type": "stream",
     "text": [
      "\n",
      "------------------\n",
      "Add isochrone grid\n",
      "------------------\n",
      "\n",
      "Evolutionary model: ames\n",
      "File name: None\n",
      "Database tag: None\n",
      "\n",
      "Adding isochrones: ames-cond... [DONE]\n",
      "Database tag: ames-cond\n",
      "\n",
      "Adding isochrones: ames-dusty... [DONE]\n",
      "Database tag: ames-dusty\n",
      "\n",
      "-------------------\n",
      "Read isochrone grid\n",
      "-------------------\n",
      "\n",
      "Database tag: ames-cond\n",
      "Create regular grid: False\n"
     ]
    }
   ],
   "source": [
    "database.add_isochrones(model='ames')\n",
    "read_iso = ReadIsochrone(tag='ames-cond')"
   ]
  },
  {
   "cell_type": "markdown",
   "id": "63bcb156",
   "metadata": {
    "id": "63bcb156"
   },
   "source": [
    "# Plot curves of how bright an object is at 40 Myr as a function of mass\n",
    "\n",
    "We will plot the L-band brightness (this is the wavelength band from the Keck data) of planets as a function of mass at 40 Myr (the age of the system).\n",
    "\n",
    "Note that this plots the absolute magnitude in L-band (apparent magnitude at 10 pc)!"
   ]
  },
  {
   "cell_type": "code",
   "execution_count": 21,
   "id": "bc15f467",
   "metadata": {
    "id": "bc15f467"
   },
   "outputs": [
    {
     "name": "stdout",
     "output_type": "stream",
     "text": [
      "Opening IsochroneBox...\n",
      "model = ames-cond\n",
      "age = 80.0\n",
      "mass = [ 1.          1.59183673  2.18367347  2.7755102   3.36734694  3.95918367\n",
      "  4.55102041  5.14285714  5.73469388  6.32653061  6.91836735  7.51020408\n",
      "  8.10204082  8.69387755  9.28571429  9.87755102 10.46938776 11.06122449\n",
      " 11.65306122 12.24489796 12.83673469 13.42857143 14.02040816 14.6122449\n",
      " 15.20408163 15.79591837 16.3877551  16.97959184 17.57142857 18.16326531\n",
      " 18.75510204 19.34693878 19.93877551 20.53061224 21.12244898 21.71428571\n",
      " 22.30612245 22.89795918 23.48979592 24.08163265 24.67346939 25.26530612\n",
      " 25.85714286 26.44897959 27.04081633 27.63265306 28.2244898  28.81632653\n",
      " 29.40816327 30.        ]\n",
      "teff = [ 324.09832356  390.74918936  452.42367981  495.36093882  537.65484792\n",
      "  578.89721513  620.13958234  661.38194955  701.20139964  740.47398754\n",
      "  776.06671541  813.52061591  855.32794705  896.23790205  936.3503414\n",
      "  978.60804699 1021.545306   1126.80895974 1232.73969744 1338.67043513\n",
      " 1408.76277871 1434.939441   1461.1161033  1487.29276559 1513.46942788\n",
      " 1538.12470003 1553.37872626 1568.63275249 1583.88677872 1599.14080494\n",
      " 1614.39483117 1629.6488574  1644.90288363 1660.15690986 1677.45303613\n",
      " 1699.76911154 1722.08518694 1744.40126235 1766.71733776 1789.03341317\n",
      " 1811.34948858 1833.66556399 1855.98163939 1878.2977148  1900.61379021\n",
      " 1922.92986562 1945.24594103 1967.56201644 1989.87809185 2012.19416725]\n",
      "log_lum = [-6.87268142 -6.54943859 -6.26633381 -6.10814391 -5.95853201 -5.82294066\n",
      " -5.70112443 -5.58813165 -5.48936803 -5.39450225 -5.3154073  -5.23462037\n",
      " -5.14987578 -5.0711137  -4.99766839 -4.91993255 -4.84083759 -4.67230566\n",
      " -4.50281648 -4.3333273  -4.22646011 -4.1963287  -4.16619729 -4.13606588\n",
      " -4.10593447 -4.07811138 -4.06455224 -4.05099311 -4.03743397 -4.02387484\n",
      " -4.01031571 -3.99675657 -3.98319744 -3.9696383  -3.95330191 -3.93013839\n",
      " -3.90697487 -3.88381135 -3.86064783 -3.83748431 -3.81432078 -3.79115726\n",
      " -3.76799374 -3.74483022 -3.7216667  -3.69850318 -3.67533966 -3.65217613\n",
      " -3.62901261 -3.60584909]\n",
      "logg = [3.26457277 3.43547629 3.58436876 3.68041263 3.765734   3.83352967\n",
      " 3.89443778 3.95093418 3.99794446 4.04274888 4.08229635 4.12015185\n",
      " 4.15404969 4.18495627 4.21320447 4.24145266 4.26970086 4.27279491\n",
      " 4.27561973 4.27844454 4.28846243 4.30729456 4.32612669 4.34495882\n",
      " 4.36379096 4.38251816 4.40059701 4.41867585 4.4367547  4.45483355\n",
      " 4.47291239 4.49099124 4.50907008 4.52714893 4.54228715 4.55019665\n",
      " 4.55810614 4.56601564 4.57392513 4.58183463 4.58974412 4.59765362\n",
      " 4.60556311 4.61347261 4.6213821  4.6292916  4.63720109 4.64511059\n",
      " 4.65302008 4.66092958]\n",
      "radius = [1.1519429  1.16778326 1.18173393 1.18963641 1.19543914 1.19780988\n",
      " 1.19921722 1.20000747 1.1988074  1.19717198 1.19480124 1.19266716\n",
      " 1.19108666 1.18950617 1.18792567 1.18754546 1.18754546 1.21295654\n",
      " 1.23863959 1.26432264 1.27751777 1.27541044 1.27330312 1.27119579\n",
      " 1.26908846 1.26665826 1.26223287 1.25780748 1.2533821  1.24895671\n",
      " 1.24453132 1.24010593 1.23568055 1.23125516 1.22897779 1.23198073\n",
      " 1.23498367 1.23798661 1.24098955 1.24399249 1.24699543 1.24999838\n",
      " 1.25300132 1.25600426 1.2590072  1.26201014 1.26501308 1.26801603\n",
      " 1.27101897 1.27402191]\n",
      "filter_mag = L'\n",
      "magnitude = [17.51649724 16.66065768 15.92341085 15.48499884 15.07253527 14.70248389\n",
      " 14.3792679  14.08605162 13.82840827 13.58105928 13.38049708 13.1785813\n",
      " 12.97349939 12.78217725 12.60308369 12.42098675 12.23793843 11.84666965\n",
      " 11.45317227 11.05967489 10.81744346 10.76057042 10.70369739 10.64682435\n",
      " 10.58995131 10.53771065 10.51409516 10.49047966 10.46686417 10.44324868\n",
      " 10.41963319 10.39601769 10.3724022  10.34878671 10.32079295 10.28203643\n",
      " 10.2432799  10.20452338 10.16576685 10.12701033 10.0882538  10.04949727\n",
      " 10.01074075  9.97198422  9.9332277   9.89447117  9.85571464  9.81695812\n",
      "  9.77820159  9.73944507]\n",
      "filters_color = None\n",
      "color = None\n"
     ]
    }
   ],
   "source": [
    "iso_box = read_iso.get_isochrone(age=80.,\n",
    "                                 masses=np.linspace(1., 30., 50),\n",
    "                                 filter_mag=\"L'\")\n",
    "iso_box.open_box()"
   ]
  },
  {
   "cell_type": "code",
   "execution_count": 22,
   "id": "960cdccc",
   "metadata": {
    "id": "960cdccc"
   },
   "outputs": [
    {
     "data": {
      "image/png": "[encoded data removed]",
      "text/plain": [
       "<Figure size 640x480 with 1 Axes>"
      ]
     },
     "metadata": {},
     "output_type": "display_data"
    }
   ],
   "source": [
    "plt.plot(iso_box.mass, iso_box.magnitude, label=f'Age = {iso_box.age} Myr')\n",
    "plt.xlabel(r'Mass ($M_\\mathrm{J}$)', fontsize=14)\n",
    "plt.ylabel(r\"$M_{L'}$\", fontsize=14)\n",
    "plt.legend(fontsize=14)\n",
    "plt.show()"
   ]
  },
  {
   "cell_type": "markdown",
   "id": "7a2fdad4",
   "metadata": {
    "id": "7a2fdad4"
   },
   "source": [
    "# Convert your measured L-band flux ratio to a planet absolute magnitude\n",
    "\n",
    "Change the flux ratio to the one you measured."
   ]
  },
  {
   "cell_type": "code",
   "execution_count": 17,
   "id": "b34721dd",
   "metadata": {
    "id": "b34721dd"
   },
   "outputs": [
    {
     "name": "stdout",
     "output_type": "stream",
     "text": [
      "12.404773715746181\n"
     ]
    }
   ],
   "source": [
    "planet_fluxratio = 8e-5 # INSERT YOUR MEASURED FLUX RATIO HERE\n",
    "\n",
    "star_lmag = 5.22\n",
    "star_abs_lmag = star_lmag - 5 * np.log10(40.879/10)\n",
    "planet_abs_lmag = star_abs_lmag - 2.5 * np.log10(planet_fluxratio)\n",
    "print(planet_abs_lmag)"
   ]
  },
  {
   "cell_type": "markdown",
   "id": "fbcc478f",
   "metadata": {
    "id": "fbcc478f"
   },
   "source": [
    "# Interpolate the evolutionary model to determine the mass of the planet"
   ]
  },
  {
   "cell_type": "code",
   "execution_count": 18,
   "id": "d37c9cd5",
   "metadata": {
    "id": "d37c9cd5"
   },
   "outputs": [
    {
     "name": "stdout",
     "output_type": "stream",
     "text": [
      "4.6322779007356685\n"
     ]
    }
   ],
   "source": [
    "planet_mass = np.interp(planet_abs_lmag, iso_box.magnitude[::-1], iso_box.mass[::-1])\n",
    "print(planet_mass) # Jupiter masses"
   ]
  }
 ],
 "metadata": {
  "colab": {
   "provenance": [
    {
     "file_id": "1jP4VpdVjyzoDYncJQ8chBtZtmYcLoPsU",
     "timestamp": 1716597006706
    }
   ],
   "toc_visible": true
  },
  "kernelspec": {
   "display_name": "Python 3 (ipykernel)",
   "language": "python",
   "name": "python3"
  },
  "language_info": {
   "codemirror_mode": {
    "name": "ipython",
    "version": 3
   },
   "file_extension": ".py",
   "mimetype": "text/x-python",
   "name": "python",
   "nbconvert_exporter": "python",
   "pygments_lexer": "ipython3",
   "version": "3.9.19"
  }
 },
 "nbformat": 4,
 "nbformat_minor": 5
}
